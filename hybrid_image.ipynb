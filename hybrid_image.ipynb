{
  "nbformat": 4,
  "nbformat_minor": 0,
  "metadata": {
    "colab": {
      "name": "hybrid_image.ipynb",
      "provenance": [],
      "collapsed_sections": [],
      "authorship_tag": "ABX9TyON2kob+FoDySaAzUh46Flj",
      "include_colab_link": true
    },
    "kernelspec": {
      "name": "python3",
      "display_name": "Python 3"
    }
  },
  "cells": [
    {
      "cell_type": "markdown",
      "metadata": {
        "id": "view-in-github",
        "colab_type": "text"
      },
      "source": [
        "<a href=\"https://colab.research.google.com/github/q890003/Hybrid-image_Image-pyramid_Colorizing-the-Russian-Empire/blob/master/hybrid_image.ipynb\" target=\"_parent\"><img src=\"https://colab.research.google.com/assets/colab-badge.svg\" alt=\"Open In Colab\"/></a>"
      ]
    },
    {
      "cell_type": "code",
      "metadata": {
        "id": "dkEMSaBZqN3t",
        "colab_type": "code",
        "colab": {}
      },
      "source": [
        "import numpy as np\n",
        "import cv2\n",
        "import matplotlib.pyplot as plt\n",
        "import os\n",
        "\n",
        "data_dir = './hw2_data/task1and2_hybrid_pyramid/'\n",
        "img_name_list = sorted(os.listdir(data_dir))\n",
        "images = []\n",
        "for img_name in img_name_list:\n",
        "    images.append(np.float32(cv2.imread(data_dir+img_name, cv2.IMREAD_GRAYSCALE)))\n",
        "In [207]:\n",
        "# Shift\n",
        "def shift(img):\n",
        "    res = img.copy()\n",
        "    \n",
        "    for i in range(res.shape[0]):\n",
        "        for j in range(res.shape[1]):\n",
        "            if (i+j)%2:\n",
        "                res[i, j] *= -1\n",
        "    return res\n",
        "                \n",
        "# Ideal filter\n",
        "def ideal_filter(img, D0, filter_type='high'):\n",
        "    res = img.copy()\n",
        "    \n",
        "    H, W = res.shape[:2]\n",
        "    M = (int(H/2), int(W/2))\n",
        "    \n",
        "    y, x = np.ogrid[-M[0]:H-M[0], -M[1]:W-M[1]]\n",
        "    f = np.where(x**2+y**2<=D0**2, 1, 0)\n",
        "    \n",
        "    if filter_type == 'high':\n",
        "        return res*(1-f)\n",
        "    else:\n",
        "        return res*f\n",
        "\n",
        "# Gaussian filter\n",
        "def gaussian_filter(img, D0, filter_type='high'):\n",
        "    res = img.copy()\n",
        "    \n",
        "    H, W = img.shape[:2]\n",
        "    M = (int(H/2), int(W/2))\n",
        "    \n",
        "    y, x = np.ogrid[-M[0]:H-M[0], -M[1]:W-M[1]]\n",
        "    f = np.exp(-(x**2 + y**2)/(2*D0**2))\n",
        "            \n",
        "    if filter_type == 'high':\n",
        "        return res*(1-f)\n",
        "    else:\n",
        "        return res*f\n",
        "    \n",
        "# Hybrid img1 & img2\n",
        "def hybrid_image(img1, D0_1, img2, D0_2, filter=ideal_filter):\n",
        "    img1_fft = np.fft.fft2(shift(img1))\n",
        "    img2_fft = np.fft.fft2(shift(img2))\n",
        "    \n",
        "    img1_fft = filter(img1_fft, D0_1, 'high')\n",
        "    img2_fft = filter(img2_fft, D0_2, 'low')\n",
        "    \n",
        "    res1 = shift(np.fft.ifft2(img1_fft).real)\n",
        "    res2 = shift(np.fft.ifft2(img2_fft).real)\n",
        "    \n",
        "    res = res1 + res2\n",
        "    \n",
        "    return res\n",
        "In [211]:\n",
        "res = hybrid_image(images[6], 20, images[7], 20, ideal_filter)\n",
        "fig = plt.figure(figsize=(15, 15))\n",
        "plt.imshow(res, cmap='gray')"
      ],
      "execution_count": 0,
      "outputs": []
    }
  ]
}