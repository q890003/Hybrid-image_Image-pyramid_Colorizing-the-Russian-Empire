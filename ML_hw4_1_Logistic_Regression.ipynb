{
  "nbformat": 4,
  "nbformat_minor": 0,
  "metadata": {
    "colab": {
      "name": "ML_hw4_1_Logistic Regression.ipynb",
      "provenance": [],
      "collapsed_sections": [],
      "authorship_tag": "ABX9TyMLSIZl/npU0qUjCNXIXpz4",
      "include_colab_link": true
    },
    "kernelspec": {
      "name": "python3",
      "display_name": "Python 3"
    }
  },
  "cells": [
    {
      "cell_type": "markdown",
      "metadata": {
        "id": "view-in-github",
        "colab_type": "text"
      },
      "source": [
        "<a href=\"https://colab.research.google.com/github/q890003/Hybrid-image_Image-pyramid_Colorizing-the-Russian-Empire/blob/master/ML_hw4_1_Logistic_Regression.ipynb\" target=\"_parent\"><img src=\"https://colab.research.google.com/assets/colab-badge.svg\" alt=\"Open In Colab\"/></a>"
      ]
    },
    {
      "cell_type": "code",
      "metadata": {
        "id": "ymBqKP220qkZ",
        "colab_type": "code",
        "outputId": "c11c75a8-af3a-4eff-d409-cf93f46c1cc5",
        "colab": {
          "base_uri": "https://localhost:8080/",
          "height": 35
        }
      },
      "source": [
        "import numpy as np\n",
        "import math\n",
        "import matplotlib.pyplot as plt\n",
        "\n",
        "#generate number points (x,y),    x ~ N(mean_x, var_x), y ~ N(mean_y, var_y)\n",
        "def gen_data( N1, N2, num_pts):\n",
        "    mean_x, var_x = N1[0], N1[1]\n",
        "    mean_y, var_y = N2[0], N2[1]\n",
        "    sigma_x, sigma_y = var_x**(0.5), var_y**(0.5)\n",
        "\n",
        "    points_x, points_y = [], []\n",
        "    for i in range(num_pts):\n",
        "        z_x = np.sum(np.random.uniform(0.0, 1.0, 12)) - 6\n",
        "        z_y = np.sum(np.random.uniform(0.0, 1.0, 12)) - 6\n",
        "        #formula: z = (x-m)/sigma -> x= z*sigma + mean\n",
        "        gen_value_x = z_x *sigma_x + mean_x\n",
        "        gen_value_y = z_y *sigma_y + mean_y\n",
        "        points_x.append(gen_value_x)\n",
        "        points_y.append(gen_value_y)\n",
        "    return points_x, points_y\n",
        "#sigmoid\n",
        "def sigmoid(X, w):\n",
        "    Xw = X.dot(w)\n",
        "    sigmoids = np.zeros((2*50,1), dtype=float)\n",
        "    for i in range(len(Xw)):\n",
        "            sigmoids[i] = 1/(1+np.exp(-1 * Xw[i] ))\n",
        "    return sigmoids\n",
        "\n",
        "#confusion matrix\n",
        "def analysis(ture_label, predict_label):\n",
        "    TP, TN, FP, FN = 0, 0, 0, 0\n",
        "    for i in range(2*50):\n",
        "        if predict_label[i] >=0:\n",
        "            if ture_label[i] == 1:\n",
        "                TP += 1\n",
        "            else:\n",
        "                FP += 1\n",
        "        else:\n",
        "            if ture_label[i] == 1:\n",
        "                FN += 1\n",
        "            else:\n",
        "                TN += 1\n",
        "    return TP, TN, FP, FN\n",
        "#init input\n",
        "N = 50\n",
        "#class 1 \n",
        "c1_parameter_x = (1,2)   #(mean, var)\n",
        "c1_parameter_y = (1,2)\n",
        "#class 2\n",
        "c2_parameter_x = (3,4)\n",
        "c2_parameter_y = (3,4)\n",
        "\"\"\"\"\"\"\n",
        "#generate 2 classes data.\n",
        "c1_pts_x, c1_pts_y = gen_data( c1_parameter_x, c1_parameter_y, num_pts=50)\n",
        "c2_pts_x, c2_pts_y = gen_data( c2_parameter_x, c2_parameter_y, num_pts=50)\n",
        "pts_x, pts_y = c1_pts_x+c2_pts_x, c1_pts_y+c2_pts_y\n",
        "\n",
        "#set design matrix\n",
        "X = np.zeros((2*N,3), dtype=float)\n",
        "X[:,0], X[:,1], X[:,2] =  1, pts_x, pts_y\n",
        "\n",
        "#set lebel\n",
        "Label = np.zeros((2*N, 1), dtype=float)\n",
        "Label[:N,0] = 1\n",
        "\n",
        "#Gradient descent\n",
        "w = np.zeros((3,1), dtype= float)\n",
        "for k in range(100):\n",
        "    adjust = X.T.dot( Label - sigmoid(X,w))\n",
        "    w = w + adjust\n",
        "    if np.all(np.less(np.absolute(adjust),10)):\n",
        "        break\n",
        "w_gradient = w\n"
      ],
      "execution_count": 0,
      "outputs": [
        {
          "output_type": "stream",
          "text": [
            "/usr/local/lib/python3.6/dist-packages/ipykernel_launcher.py:26: RuntimeWarning: overflow encountered in exp\n"
          ],
          "name": "stderr"
        }
      ]
    },
    {
      "cell_type": "code",
      "metadata": {
        "id": "_ynPnGCu7PhV",
        "colab_type": "code",
        "outputId": "4a0b401a-74f1-4144-d731-c86b22c8972a",
        "colab": {
          "base_uri": "https://localhost:8080/",
          "height": 767
        }
      },
      "source": [
        "#Newton method\n",
        "w = np.zeros((3,1), dtype=float)\n",
        "D = np.zeros((2*N, 2*N), dtype=float)\n",
        "for k in range(100):\n",
        "    sigs = sigmoid(X, w)\n",
        "    sigs = sigs*(1-sigs) \n",
        "    for i in range(2*N):\n",
        "        D[i,i] =  sigs[i]\n",
        "    H = X.T.dot(D).dot(X)\n",
        "    delta_f = X.T.dot(Label - sigmoid(X,w))\n",
        "    #update w.\n",
        "    if np.linalg.det(H) == 0:\n",
        "        adjust = delta_f\n",
        "        w = w + adjust\n",
        "    else:\n",
        "        H_inv = np.linalg.inv(H)\n",
        "        adjust = H_inv.dot(delta_f)\n",
        "        w = w + adjust\n",
        "\n",
        "    if np.all(np.less(np.absolute(adjust), 10)):\n",
        "        break\n",
        "w_newton = w\n",
        "\n",
        "#prediction\n",
        "pdict_grad_c1x, pdict_grad_c1y = [], []\n",
        "pdict_grad_c2x, pdict_grad_c2y = [], []\n",
        "pdict_Newt_c1x, pdict_Newt_c1y = [], []\n",
        "pdict_Newt_c2x, pdict_Newt_c2y = [], []\n",
        "pdict_grad = X.dot(w_gradient)\n",
        "pdict_Newt = X.dot(w_newton)\n",
        "for i in range(2*N):\n",
        "    if pdict_grad[i] >=0.5:\n",
        "        pdict_grad_c1x.append(pts_x[i])\n",
        "        pdict_grad_c1y.append(pts_y[i])\n",
        "    else:\n",
        "        pdict_grad_c2x.append(pts_x[i])\n",
        "        pdict_grad_c2y.append(pts_y[i])\n",
        "    if pdict_Newt[i] >=0.5:\n",
        "        pdict_Newt_c1x.append(pts_x[i])\n",
        "        pdict_Newt_c1y.append(pts_y[i])\n",
        "    else:\n",
        "        pdict_Newt_c2x.append(pts_x[i])\n",
        "        pdict_Newt_c2y.append(pts_y[i])\n",
        "\n",
        "print(\"Gradient descent:\\n\")\n",
        "print(\"w:\")\n",
        "for i in range(3):\n",
        "    print(w_gradient[i])\n",
        "print()\n",
        "print(\"Confusion Matrix:\")\n",
        "TP, TN, FP, FN = analysis(Label, pdict_grad)\n",
        "print(\"\\t\\t Predict cluster 1 Predict cluster 2\")\n",
        "print(\"Is cluster 1\\t\\t\", TP, \"\\t\\t\", FN)\n",
        "print(\"Is cluster 2\\t\\t\", FP, \"\\t\\t\", TN)\n",
        "print(\"Sensitivity (Successfully predict cluster 1):\", TP/(TP+FN))\n",
        "print(\"Specificity (Successfully predict cluster 2):\", TN/(TN+FP))\n",
        "print(\"----------------------------------------\")\n",
        "print(\"Newton's method:\\n\")\n",
        "print(\"w:\")\n",
        "for i in range(3):\n",
        "    print(w_newton[i])\n",
        "print()\n",
        "print(\"Confusion Matrix:\")\n",
        "TP, TN, FP, FN = analysis(Label, pdict_Newt)\n",
        "print(\"\\t\\t Predict cluster 1 Predict cluster 2\")\n",
        "print(\"Is cluster 1\\t\\t\", TP, \"\\t\\t\", FN)\n",
        "print(\"Is cluster 2\\t\\t\", FP, \"\\t\\t\", TN)\n",
        "print(\"Sensitivity (Successfully predict cluster 1):\", TP/(TP+FN))\n",
        "print(\"Specificity (Successfully predict cluster 2):\", TN/(TN+FP))\n",
        "#decision boundary\n",
        "db_x = np.linspace(-5,15, 10)\n",
        "db_y = -1 * (w_gradient[0]+ db_x* w_gradient[1] )/w_gradient[2]\n",
        "plt.figure()\n",
        "plt.subplot(131), plt.title(\"Ground truth\")\n",
        "plt.scatter(c1_pts_x,c1_pts_y,linewidths=0.001,color = 'red')\n",
        "plt.scatter(c2_pts_x,c2_pts_y,linewidths=0.001,color = 'blue')\n",
        "\n",
        "plt.subplot(132), plt.title(\"Gradient descent\")\n",
        "plt.scatter(pdict_grad_c1x,pdict_grad_c1y,linewidths=0.001,color = 'red')\n",
        "plt.scatter(pdict_grad_c2x,pdict_grad_c2y,linewidths=0.001,color = 'blue')\n",
        "\n",
        "plt.subplot(133), plt.title(\"Newton's method\")\n",
        "plt.scatter(pdict_Newt_c1x,pdict_Newt_c1y,linewidths=0.001,color = 'red')\n",
        "plt.scatter(pdict_Newt_c2x,pdict_Newt_c2y,linewidths=0.001,color = 'blue')\n"
      ],
      "execution_count": 0,
      "outputs": [
        {
          "output_type": "stream",
          "text": [
            "Gradient descent:\n",
            "\n",
            "w:\n",
            "[167.27672393]\n",
            "[-40.51916403]\n",
            "[-44.31051197]\n",
            "\n",
            "Confusion Matrix:\n",
            "\t\t Predict cluster 1 Predict cluster 2\n",
            "Is cluster 1\t\t 45 \t\t 5\n",
            "Is cluster 2\t\t 11 \t\t 39\n",
            "Sensitivity (Successfully predict cluster 1): 0.9\n",
            "Specificity (Successfully predict cluster 2): 0.78\n",
            "----------------------------------------\n",
            "Newton's method:\n",
            "\n",
            "w:\n",
            "[1.51227107]\n",
            "[-0.31943455]\n",
            "[-0.41193478]\n",
            "\n",
            "Confusion Matrix:\n",
            "\t\t Predict cluster 1 Predict cluster 2\n",
            "Is cluster 1\t\t 46 \t\t 4\n",
            "Is cluster 2\t\t 14 \t\t 36\n",
            "Sensitivity (Successfully predict cluster 1): 0.92\n",
            "Specificity (Successfully predict cluster 2): 0.72\n"
          ],
          "name": "stdout"
        },
        {
          "output_type": "execute_result",
          "data": {
            "text/plain": [
              "<matplotlib.collections.PathCollection at 0x7fc67f941d68>"
            ]
          },
          "metadata": {
            "tags": []
          },
          "execution_count": 28
        },
        {
          "output_type": "display_data",
          "data": {
            "image/png": "[encoded data removed]",
            "text/plain": [
              "<Figure size 432x288 with 3 Axes>"
            ]
          },
          "metadata": {
            "tags": [],
            "needs_background": "light"
          }
        }
      ]
    }
  ]
}