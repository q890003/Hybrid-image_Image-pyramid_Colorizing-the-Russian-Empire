{
  "nbformat": 4,
  "nbformat_minor": 0,
  "metadata": {
    "colab": {
      "name": "ML_hw4_EM algorithm.ipynb",
      "provenance": [],
      "collapsed_sections": [],
      "mount_file_id": "1FK_khdxvbiXJaJ4w6bIBT-GsxZ4H1QRE",
      "authorship_tag": "ABX9TyMQRi6r0r6gPLUmop48ATm7",
      "include_colab_link": true
    },
    "kernelspec": {
      "name": "python3",
      "display_name": "Python 3"
    }
  },
  "cells": [
    {
      "cell_type": "markdown",
      "metadata": {
        "id": "view-in-github",
        "colab_type": "text"
      },
      "source": [
        "<a href=\"https://colab.research.google.com/github/q890003/Hybrid-image_Image-pyramid_Colorizing-the-Russian-Empire/blob/master/ML_hw4_EM_algorithm.ipynb\" target=\"_parent\"><img src=\"https://colab.research.google.com/assets/colab-badge.svg\" alt=\"Open In Colab\"/></a>"
      ]
    },
    {
      "cell_type": "code",
      "metadata": {
        "id": "mv_GH0AZeXUt",
        "colab_type": "code",
        "colab": {}
      },
      "source": [
        "import sys\n",
        "import dill\n",
        "import numpy as np\n",
        "import math\n",
        "from itertools import product \n",
        "from struct import unpack \n",
        "\n",
        "def get_img(img_file_path):\n",
        "    with open(img_file_path, \"rb\") as img_file:\n",
        "        magic, num_imgs, rows, cols = unpack(\">IIII\", img_file.read(16))\n",
        "\n",
        "        imgs_mtx = np.zeros((num_imgs, rows, cols), dtype=int)\n",
        "        for img in range(num_imgs):\n",
        "            for (row, col) in product(range(rows), range(cols)):\n",
        "                tmp = unpack(\">B\", img_file.read(1))\n",
        "                tmp = int(str(tmp[0]))\n",
        "                imgs_mtx[img][row,col] = tmp\n",
        "    return imgs_mtx, num_imgs\n",
        "\n",
        "def get_label(lbl_file_path):\n",
        "    with open(lbl_file_path, \"rb\") as label_file:\n",
        "        magic, num_itms = unpack(\">II\", label_file.read(8))\n",
        "        lbls_mtx = np.zeros((num_itms), dtype=int)\n",
        "        for img in range(num_itms):\n",
        "            label = unpack(\">B\", label_file.read(1))\n",
        "            label = int(str(label[0]))\n",
        "            lbls_mtx[img] = label\n",
        "    return lbls_mtx\n",
        "\n",
        "label_types = 10\n",
        "gray_bins = 2\n",
        "#mode = int(sys.argv[1])  #mode = 0 -> Discrete; mode = 1 -> Contineous\n",
        "mode = 0    # for test\n",
        "rows = 28\n",
        "cols = 28\n",
        "\n",
        "train_img_pth = \"/content/drive/My Drive/Colab Notebooks/ML_hw4/train-images.idx3-ubyte\"\n",
        "train_label_pth = \"/content/drive/My Drive/Colab Notebooks/ML_hw4/train-labels.idx1-ubyte\"\n",
        "train_img_mtx, train_num_imgs = get_img(train_img_pth)\n",
        "train_label_mtx = get_label(train_label_pth)\n",
        "\n",
        "# test_img_pth = \"/content/drive/My Drive/Colab Notebooks/ML_hw2/t10k-images.idx3-ubyte\"\n",
        "# test_label_pth = \"/content/drive/My Drive/Colab Notebooks/ML_hw2/t10k-labels.idx1-ubyte\"\n",
        "# test_img_mtx, tests_num_imgs = get_img(test_img_pth)\n",
        "# test_label_mtx = get_label(test_label_pth)\n",
        "\n",
        "\n",
        "labels_count = np.zeros((label_types), dtype=float)\n",
        "likelyhood = np.zeros((label_types,rows,cols,gray_bins), dtype=float)\n",
        "for img in range(train_num_imgs):\n",
        "    lbl = train_label_mtx[img]\n",
        "    labels_count[lbl] += 1\n",
        "    for (row, col) in product(range(rows), range(cols)):\n",
        "        train_img_mtx[img][row, col] = train_img_mtx[img][row, col] // 128\n",
        "        gray = train_img_mtx[img][row, col]\n",
        "        likelyhood[lbl][row,col,gray] += 1\n",
        "prior = labels_count/train_num_imgs\n",
        "\n",
        "\n",
        "\n",
        "\n",
        "\n"
      ],
      "execution_count": 0,
      "outputs": []
    },
    {
      "cell_type": "code",
      "metadata": {
        "id": "9QB0xigEUbe3",
        "colab_type": "code",
        "colab": {}
      },
      "source": [
        "#validation\n",
        "true = np.zeros(10, dtype=float)\n",
        "for img in range(train_num_imgs):\n",
        "    true[train_label_mtx[img]] += 1\n"
      ],
      "execution_count": 0,
      "outputs": []
    },
    {
      "cell_type": "code",
      "metadata": {
        "id": "0lFmhcXiSkt-",
        "colab_type": "code",
        "colab": {}
      },
      "source": [
        "# init\n",
        "q = np.full((10,28,28), 0.1)  #under 28*28 pixels, prob of 0~9 init is 0.1,...,0.1\n",
        "p = np.full((10,28,28), 0.5)  #under 28*28 pixels, a probality of bin=1  in each number, 0~9 \n",
        "w_1 = np.zeros((10,28,28), dtype=float)  #under 28*28 pixels, When a pixel has bin = 1, the prob of a number under numbers 0~9 \n",
        "w_0 = np.zeros((10,28,28), dtype=float)  #under 28*28 pixels, When a pixel has bin = 0, the prob of a number under numbers 0~9\n",
        "\n",
        "for iter in range(2):\n",
        "    # Expectation step:\n",
        "\n",
        "\n",
        "    #weight in a image.\n",
        "    # expect w_1, w_0.\n",
        "    w_1_sum = np.zeros((28,28), dtype=float)\n",
        "    w_0_sum = np.zeros((28,28), dtype=float)\n",
        "\n",
        "    #q_i * p_i in each pixel.\n",
        "    w_1_pxls = q * p     \n",
        "    w_0_pxls = q * (1- p)\n",
        "\n",
        "    for i in range(10):\n",
        "        w_1_sum += w_1_pxls[i]\n",
        "        w_0_sum += w_0_pxls[i]\n",
        "    # w_i = (q_i * p_i) / sum(q_i * p_i)\n",
        "    for i in range(10):\n",
        "        w_1[i] = np.true_divide(q[i]*    p[i]   , w_1_sum)\n",
        "        w_0[i] = np.true_divide(q[i] *(1 - p[i]), w_0_sum)\n",
        "\n",
        "    print(\"@@@@@@@@@@@@@@@@@iter\", iter, \"@@@@@@@@@@@@@@@@@@@@@@@@@@@@\")\n",
        "    print(q[0],\"q[0\")\n",
        "    print(w_1[0], \"w_1[0]\")\n",
        "    # Maximization step:\n",
        "    # update q, p\n",
        "    for i in range(10): #class 0 to 9\n",
        "        tmp = np.zeros((28,28), dtype=float)\n",
        "        count_1 = np.zeros((28,28), dtype=float)\n",
        "        for img in range(train_num_imgs):\n",
        "            tmp += w_1[i] * train_img_mtx[img] + w_0[i] * (1 - train_img_mtx[img])\n",
        "            count_1 += train_img_mtx[img]\n",
        "        # print(tmp)\n",
        "        q[i] = tmp / train_num_imgs\n",
        "        p[i] = np.true_divide( count_1 * w_1[i] , count_1 * w_1[i] + (train_num_imgs - count_1)* w_0[i] )\n",
        "    print(\"!!!!!!!!!!!!!!!!!!! Update @!!!!!!!!!!!!!!!!!!!!!!!!!!!!!!\")\n",
        "    print(q[0], \"q[0\")\n",
        "    print(p[0], \"p[0]\")\n"
      ],
      "execution_count": 0,
      "outputs": []
    },
    {
      "cell_type": "code",
      "metadata": {
        "id": "oCZJBd0HZiOt",
        "colab_type": "code",
        "colab": {
          "base_uri": "https://localhost:8080/",
          "height": 244
        },
        "outputId": "3efcd539-a0cd-4dea-fd49-fb3eaa41040c"
      },
      "source": [
        "#clustering\n",
        "cluster = np.zeros((10,28,28), dtype=float) \n",
        "predict = np.zeros(10, dtype=float) \n",
        "record = np.zeros(10, dtype=float)\n",
        "\n",
        "for img in range(train_num_imgs):\n",
        "    for i in range (1):\n",
        "        cluster[i] = np.log(w_1[i]* train_img_mtx[img] + w_0[i]* (1- train_img_mtx[img]))\n",
        "        predict[i] = np.sum(cluster[i])\n",
        "    label = np.max(predict)\n",
        "    record[int(label)] += 1\n",
        "\n",
        "print(\"@@@@@@@\")\n",
        "\n",
        "print(record)\n",
        "print(true)"
      ],
      "execution_count": 63,
      "outputs": [
        {
          "output_type": "error",
          "ename": "ValueError",
          "evalue": "ignored",
          "traceback": [
            "\u001b[0;31m---------------------------------------------------------------------------\u001b[0m",
            "\u001b[0;31mValueError\u001b[0m                                Traceback (most recent call last)",
            "\u001b[0;32m<ipython-input-63-0f592974229e>\u001b[0m in \u001b[0;36m<module>\u001b[0;34m()\u001b[0m\n\u001b[1;32m      8\u001b[0m         \u001b[0mpredict\u001b[0m\u001b[0;34m[\u001b[0m\u001b[0mi\u001b[0m\u001b[0;34m]\u001b[0m \u001b[0;34m=\u001b[0m \u001b[0mnp\u001b[0m\u001b[0;34m.\u001b[0m\u001b[0msum\u001b[0m\u001b[0;34m(\u001b[0m\u001b[0mcluster\u001b[0m\u001b[0;34m[\u001b[0m\u001b[0mi\u001b[0m\u001b[0;34m]\u001b[0m\u001b[0;34m)\u001b[0m\u001b[0;34m\u001b[0m\u001b[0;34m\u001b[0m\u001b[0m\n\u001b[1;32m      9\u001b[0m     \u001b[0mlabel\u001b[0m \u001b[0;34m=\u001b[0m \u001b[0mnp\u001b[0m\u001b[0;34m.\u001b[0m\u001b[0mmax\u001b[0m\u001b[0;34m(\u001b[0m\u001b[0mpredict\u001b[0m\u001b[0;34m)\u001b[0m\u001b[0;34m\u001b[0m\u001b[0;34m\u001b[0m\u001b[0m\n\u001b[0;32m---> 10\u001b[0;31m     \u001b[0mrecord\u001b[0m\u001b[0;34m[\u001b[0m\u001b[0mint\u001b[0m\u001b[0;34m(\u001b[0m\u001b[0mlabel\u001b[0m\u001b[0;34m)\u001b[0m\u001b[0;34m]\u001b[0m \u001b[0;34m+=\u001b[0m \u001b[0;36m1\u001b[0m\u001b[0;34m\u001b[0m\u001b[0;34m\u001b[0m\u001b[0m\n\u001b[0m\u001b[1;32m     11\u001b[0m \u001b[0;34m\u001b[0m\u001b[0m\n\u001b[1;32m     12\u001b[0m \u001b[0mprint\u001b[0m\u001b[0;34m(\u001b[0m\u001b[0;34m\"@@@@@@@\"\u001b[0m\u001b[0;34m)\u001b[0m\u001b[0;34m\u001b[0m\u001b[0;34m\u001b[0m\u001b[0m\n",
            "\u001b[0;31mValueError\u001b[0m: cannot convert float NaN to integer"
          ]
        }
      ]
    }
  ]
}